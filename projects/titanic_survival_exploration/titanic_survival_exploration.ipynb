{
 "cells": [
  {
   "cell_type": "markdown",
   "metadata": {},
   "source": [
    "# Machine Learning Engineer Nanodegree\n",
    "## Introduction and Foundations\n",
    "## Project: Titanic Survival Exploration\n",
    "\n",
    "In 1912, the ship RMS Titanic struck an iceberg on its maiden voyage and sank, resulting in the deaths of most of its passengers and crew. In this introductory project, we will explore a subset of the RMS Titanic passenger manifest to determine which features best predict whether someone survived or did not survive. To complete this project, you will need to implement several conditional predictions and answer the questions below. Your project submission will be evaluated based on the completion of the code and your responses to the questions.\n",
    "> **Tip:** Quoted sections like this will provide helpful instructions on how to navigate and use an iPython notebook. "
   ]
  },
  {
   "cell_type": "markdown",
   "metadata": {},
   "source": [
    "# Getting Started\n",
    "To begin working with the RMS Titanic passenger data, we'll first need to `import` the functionality we need, and load our data into a `pandas` DataFrame.  \n",
    "Run the code cell below to load our data and display the first few entries (passengers) for examination using the `.head()` function.\n",
    "> **Tip:** You can run a code cell by clicking on the cell and using the keyboard shortcut **Shift + Enter** or **Shift + Return**. Alternatively, a code cell can be executed using the **Play** button in the hotbar after selecting it. Markdown cells (text cells like this one) can be edited by double-clicking, and saved using these same shortcuts. [Markdown](http://daringfireball.net/projects/markdown/syntax) allows you to write easy-to-read plain text that can be converted to HTML."
   ]
  },
  {
   "cell_type": "code",
<<<<<<< HEAD
   "execution_count": 1,
   "metadata": {
    "collapsed": false
   },
   "outputs": [
    {
     "data": {
      "text/html": [
       "<div>\n",
       "<table border=\"1\" class=\"dataframe\">\n",
       "  <thead>\n",
       "    <tr style=\"text-align: right;\">\n",
       "      <th></th>\n",
       "      <th>PassengerId</th>\n",
       "      <th>Survived</th>\n",
       "      <th>Pclass</th>\n",
       "      <th>Name</th>\n",
       "      <th>Sex</th>\n",
       "      <th>Age</th>\n",
       "      <th>SibSp</th>\n",
       "      <th>Parch</th>\n",
       "      <th>Ticket</th>\n",
       "      <th>Fare</th>\n",
       "      <th>Cabin</th>\n",
       "      <th>Embarked</th>\n",
       "    </tr>\n",
       "  </thead>\n",
       "  <tbody>\n",
       "    <tr>\n",
       "      <th>0</th>\n",
       "      <td>1</td>\n",
       "      <td>0</td>\n",
       "      <td>3</td>\n",
       "      <td>Braund, Mr. Owen Harris</td>\n",
       "      <td>male</td>\n",
       "      <td>22.0</td>\n",
       "      <td>1</td>\n",
       "      <td>0</td>\n",
       "      <td>A/5 21171</td>\n",
       "      <td>7.2500</td>\n",
       "      <td>NaN</td>\n",
       "      <td>S</td>\n",
       "    </tr>\n",
       "    <tr>\n",
       "      <th>1</th>\n",
       "      <td>2</td>\n",
       "      <td>1</td>\n",
       "      <td>1</td>\n",
       "      <td>Cumings, Mrs. John Bradley (Florence Briggs Th...</td>\n",
       "      <td>female</td>\n",
       "      <td>38.0</td>\n",
       "      <td>1</td>\n",
       "      <td>0</td>\n",
       "      <td>PC 17599</td>\n",
       "      <td>71.2833</td>\n",
       "      <td>C85</td>\n",
       "      <td>C</td>\n",
       "    </tr>\n",
       "    <tr>\n",
       "      <th>2</th>\n",
       "      <td>3</td>\n",
       "      <td>1</td>\n",
       "      <td>3</td>\n",
       "      <td>Heikkinen, Miss. Laina</td>\n",
       "      <td>female</td>\n",
       "      <td>26.0</td>\n",
       "      <td>0</td>\n",
       "      <td>0</td>\n",
       "      <td>STON/O2. 3101282</td>\n",
       "      <td>7.9250</td>\n",
       "      <td>NaN</td>\n",
       "      <td>S</td>\n",
       "    </tr>\n",
       "    <tr>\n",
       "      <th>3</th>\n",
       "      <td>4</td>\n",
       "      <td>1</td>\n",
       "      <td>1</td>\n",
       "      <td>Futrelle, Mrs. Jacques Heath (Lily May Peel)</td>\n",
       "      <td>female</td>\n",
       "      <td>35.0</td>\n",
       "      <td>1</td>\n",
       "      <td>0</td>\n",
       "      <td>113803</td>\n",
       "      <td>53.1000</td>\n",
       "      <td>C123</td>\n",
       "      <td>S</td>\n",
       "    </tr>\n",
       "    <tr>\n",
       "      <th>4</th>\n",
       "      <td>5</td>\n",
       "      <td>0</td>\n",
       "      <td>3</td>\n",
       "      <td>Allen, Mr. William Henry</td>\n",
       "      <td>male</td>\n",
       "      <td>35.0</td>\n",
       "      <td>0</td>\n",
       "      <td>0</td>\n",
       "      <td>373450</td>\n",
       "      <td>8.0500</td>\n",
       "      <td>NaN</td>\n",
       "      <td>S</td>\n",
       "    </tr>\n",
       "  </tbody>\n",
       "</table>\n",
       "</div>"
      ],
      "text/plain": [
       "   PassengerId  Survived  Pclass  \\\n",
       "0            1         0       3   \n",
       "1            2         1       1   \n",
       "2            3         1       3   \n",
       "3            4         1       1   \n",
       "4            5         0       3   \n",
       "\n",
       "                                                Name     Sex   Age  SibSp  \\\n",
       "0                            Braund, Mr. Owen Harris    male  22.0      1   \n",
       "1  Cumings, Mrs. John Bradley (Florence Briggs Th...  female  38.0      1   \n",
       "2                             Heikkinen, Miss. Laina  female  26.0      0   \n",
       "3       Futrelle, Mrs. Jacques Heath (Lily May Peel)  female  35.0      1   \n",
       "4                           Allen, Mr. William Henry    male  35.0      0   \n",
       "\n",
       "   Parch            Ticket     Fare Cabin Embarked  \n",
       "0      0         A/5 21171   7.2500   NaN        S  \n",
       "1      0          PC 17599  71.2833   C85        C  \n",
       "2      0  STON/O2. 3101282   7.9250   NaN        S  \n",
       "3      0            113803  53.1000  C123        S  \n",
       "4      0            373450   8.0500   NaN        S  "
      ]
     },
     "metadata": {},
     "output_type": "display_data"
    }
   ],
=======
   "execution_count": null,
   "metadata": {},
   "outputs": [],
>>>>>>> udacity/master
   "source": [
    "# Import libraries necessary for this project\n",
    "import numpy as np\n",
    "import pandas as pd\n",
    "from IPython.display import display # Allows the use of display() for DataFrames\n",
    "\n",
    "# Import supplementary visualizations code visuals.py\n",
    "import visuals as vs\n",
    "\n",
    "# Pretty display for notebooks\n",
    "%matplotlib inline\n",
    "\n",
    "# Load the dataset\n",
    "in_file = 'titanic_data.csv'\n",
    "full_data = pd.read_csv(in_file)\n",
    "\n",
    "# Print the first few entries of the RMS Titanic data\n",
    "display(full_data.head())"
   ]
  },
  {
   "cell_type": "markdown",
   "metadata": {},
   "source": [
    "From a sample of the RMS Titanic data, we can see the various features present for each passenger on the ship:\n",
    "- **Survived**: Outcome of survival (0 = No; 1 = Yes)\n",
    "- **Pclass**: Socio-economic class (1 = Upper class; 2 = Middle class; 3 = Lower class)\n",
    "- **Name**: Name of passenger\n",
    "- **Sex**: Sex of the passenger\n",
    "- **Age**: Age of the passenger (Some entries contain `NaN`)\n",
    "- **SibSp**: Number of siblings and spouses of the passenger aboard\n",
    "- **Parch**: Number of parents and children of the passenger aboard\n",
    "- **Ticket**: Ticket number of the passenger\n",
    "- **Fare**: Fare paid by the passenger\n",
    "- **Cabin** Cabin number of the passenger (Some entries contain `NaN`)\n",
    "- **Embarked**: Port of embarkation of the passenger (C = Cherbourg; Q = Queenstown; S = Southampton)\n",
    "\n",
    "Since we're interested in the outcome of survival for each passenger or crew member, we can remove the **Survived** feature from this dataset and store it as its own separate variable `outcomes`. We will use these outcomes as our prediction targets.  \n",
    "Run the code cell below to remove **Survived** as a feature of the dataset and store it in `outcomes`."
   ]
  },
  {
   "cell_type": "code",
<<<<<<< HEAD
   "execution_count": 2,
   "metadata": {
    "collapsed": false
   },
   "outputs": [
    {
     "data": {
      "text/html": [
       "<div>\n",
       "<table border=\"1\" class=\"dataframe\">\n",
       "  <thead>\n",
       "    <tr style=\"text-align: right;\">\n",
       "      <th></th>\n",
       "      <th>PassengerId</th>\n",
       "      <th>Pclass</th>\n",
       "      <th>Name</th>\n",
       "      <th>Sex</th>\n",
       "      <th>Age</th>\n",
       "      <th>SibSp</th>\n",
       "      <th>Parch</th>\n",
       "      <th>Ticket</th>\n",
       "      <th>Fare</th>\n",
       "      <th>Cabin</th>\n",
       "      <th>Embarked</th>\n",
       "    </tr>\n",
       "  </thead>\n",
       "  <tbody>\n",
       "    <tr>\n",
       "      <th>0</th>\n",
       "      <td>1</td>\n",
       "      <td>3</td>\n",
       "      <td>Braund, Mr. Owen Harris</td>\n",
       "      <td>male</td>\n",
       "      <td>22.0</td>\n",
       "      <td>1</td>\n",
       "      <td>0</td>\n",
       "      <td>A/5 21171</td>\n",
       "      <td>7.2500</td>\n",
       "      <td>NaN</td>\n",
       "      <td>S</td>\n",
       "    </tr>\n",
       "    <tr>\n",
       "      <th>1</th>\n",
       "      <td>2</td>\n",
       "      <td>1</td>\n",
       "      <td>Cumings, Mrs. John Bradley (Florence Briggs Th...</td>\n",
       "      <td>female</td>\n",
       "      <td>38.0</td>\n",
       "      <td>1</td>\n",
       "      <td>0</td>\n",
       "      <td>PC 17599</td>\n",
       "      <td>71.2833</td>\n",
       "      <td>C85</td>\n",
       "      <td>C</td>\n",
       "    </tr>\n",
       "    <tr>\n",
       "      <th>2</th>\n",
       "      <td>3</td>\n",
       "      <td>3</td>\n",
       "      <td>Heikkinen, Miss. Laina</td>\n",
       "      <td>female</td>\n",
       "      <td>26.0</td>\n",
       "      <td>0</td>\n",
       "      <td>0</td>\n",
       "      <td>STON/O2. 3101282</td>\n",
       "      <td>7.9250</td>\n",
       "      <td>NaN</td>\n",
       "      <td>S</td>\n",
       "    </tr>\n",
       "    <tr>\n",
       "      <th>3</th>\n",
       "      <td>4</td>\n",
       "      <td>1</td>\n",
       "      <td>Futrelle, Mrs. Jacques Heath (Lily May Peel)</td>\n",
       "      <td>female</td>\n",
       "      <td>35.0</td>\n",
       "      <td>1</td>\n",
       "      <td>0</td>\n",
       "      <td>113803</td>\n",
       "      <td>53.1000</td>\n",
       "      <td>C123</td>\n",
       "      <td>S</td>\n",
       "    </tr>\n",
       "    <tr>\n",
       "      <th>4</th>\n",
       "      <td>5</td>\n",
       "      <td>3</td>\n",
       "      <td>Allen, Mr. William Henry</td>\n",
       "      <td>male</td>\n",
       "      <td>35.0</td>\n",
       "      <td>0</td>\n",
       "      <td>0</td>\n",
       "      <td>373450</td>\n",
       "      <td>8.0500</td>\n",
       "      <td>NaN</td>\n",
       "      <td>S</td>\n",
       "    </tr>\n",
       "  </tbody>\n",
       "</table>\n",
       "</div>"
      ],
      "text/plain": [
       "   PassengerId  Pclass                                               Name  \\\n",
       "0            1       3                            Braund, Mr. Owen Harris   \n",
       "1            2       1  Cumings, Mrs. John Bradley (Florence Briggs Th...   \n",
       "2            3       3                             Heikkinen, Miss. Laina   \n",
       "3            4       1       Futrelle, Mrs. Jacques Heath (Lily May Peel)   \n",
       "4            5       3                           Allen, Mr. William Henry   \n",
       "\n",
       "      Sex   Age  SibSp  Parch            Ticket     Fare Cabin Embarked  \n",
       "0    male  22.0      1      0         A/5 21171   7.2500   NaN        S  \n",
       "1  female  38.0      1      0          PC 17599  71.2833   C85        C  \n",
       "2  female  26.0      0      0  STON/O2. 3101282   7.9250   NaN        S  \n",
       "3  female  35.0      1      0            113803  53.1000  C123        S  \n",
       "4    male  35.0      0      0            373450   8.0500   NaN        S  "
      ]
     },
     "metadata": {},
     "output_type": "display_data"
    }
   ],
=======
   "execution_count": null,
   "metadata": {},
   "outputs": [],
>>>>>>> udacity/master
   "source": [
    "# Store the 'Survived' feature in a new variable and remove it from the dataset\n",
    "outcomes = full_data['Survived']\n",
    "data = full_data.drop('Survived', axis = 1)\n",
    "\n",
    "# Show the new dataset with 'Survived' removed\n",
    "display(data.head())"
   ]
  },
  {
   "cell_type": "markdown",
   "metadata": {},
   "source": [
    "The very same sample of the RMS Titanic data now shows the **Survived** feature removed from the DataFrame. Note that `data` (the passenger data) and `outcomes` (the outcomes of survival) are now *paired*. That means for any passenger `data.loc[i]`, they have the survival outcome `outcomes[i]`.\n",
    "\n",
    "To measure the performance of our predictions, we need a metric to score our predictions against the true outcomes of survival. Since we are interested in how *accurate* our predictions are, we will calculate the proportion of passengers where our prediction of their survival is correct. Run the code cell below to create our `accuracy_score` function and test a prediction on the first five passengers.  \n",
    "\n",
    "**Think:** *Out of the first five passengers, if we predict that all of them survived, what would you expect the accuracy of our predictions to be?*"
   ]
  },
  {
   "cell_type": "code",
<<<<<<< HEAD
   "execution_count": 3,
   "metadata": {
    "collapsed": false
   },
   "outputs": [
    {
     "name": "stdout",
     "output_type": "stream",
     "text": [
      "Predictions have an accuracy of 60.00%.\n"
     ]
    }
   ],
=======
   "execution_count": null,
   "metadata": {},
   "outputs": [],
>>>>>>> udacity/master
   "source": [
    "def accuracy_score(truth, pred):\n",
    "    \"\"\" Returns accuracy score for input truth and predictions. \"\"\"\n",
    "    \n",
    "    # Ensure that the number of predictions matches number of outcomes\n",
    "    if len(truth) == len(pred): \n",
    "        \n",
    "        # Calculate and return the accuracy as a percent\n",
    "        return \"Predictions have an accuracy of {:.2f}%.\".format((truth == pred).mean()*100)\n",
    "    \n",
    "    else:\n",
    "        return \"Number of predictions does not match number of outcomes!\"\n",
    "    \n",
    "# Test the 'accuracy_score' function\n",
    "predictions = pd.Series(np.ones(5, dtype = int))\n",
    "print accuracy_score(outcomes[:5], predictions)"
   ]
  },
  {
   "cell_type": "markdown",
   "metadata": {},
   "source": [
    "> **Tip:** If you save an iPython Notebook, the output from running code blocks will also be saved. However, the state of your workspace will be reset once a new session is started. Make sure that you run all of the code blocks from your previous session to reestablish variables and functions before picking up where you last left off.\n",
    "\n",
    "# Making Predictions\n",
    "\n",
    "If we were asked to make a prediction about any passenger aboard the RMS Titanic whom we knew nothing about, then the best prediction we could make would be that they did not survive. This is because we can assume that a majority of the passengers (more than 50%) did not survive the ship sinking.  \n",
    "The `predictions_0` function below will always predict that a passenger did not survive."
   ]
  },
  {
   "cell_type": "code",
<<<<<<< HEAD
   "execution_count": 4,
   "metadata": {
    "collapsed": false
   },
=======
   "execution_count": null,
   "metadata": {},
>>>>>>> udacity/master
   "outputs": [],
   "source": [
    "def predictions_0(data):\n",
    "    \"\"\" Model with no features. Always predicts a passenger did not survive. \"\"\"\n",
    "\n",
    "    predictions = []\n",
    "    for _, passenger in data.iterrows():\n",
    "        \n",
    "        # Predict the survival of 'passenger'\n",
    "        predictions.append(0)\n",
    "    \n",
    "    # Return our predictions\n",
    "    return pd.Series(predictions)\n",
    "\n",
    "# Make the predictions\n",
    "predictions = predictions_0(data)"
   ]
  },
  {
   "cell_type": "markdown",
   "metadata": {},
   "source": [
    "### Question 1\n",
    "*Using the RMS Titanic data, how accurate would a prediction be that none of the passengers survived?*  \n",
    "**Hint:** Run the code cell below to see the accuracy of this prediction."
   ]
  },
  {
   "cell_type": "code",
<<<<<<< HEAD
   "execution_count": 5,
   "metadata": {
    "collapsed": false
   },
   "outputs": [
    {
     "name": "stdout",
     "output_type": "stream",
     "text": [
      "Predictions have an accuracy of 61.62%.\n"
     ]
    }
   ],
=======
   "execution_count": null,
   "metadata": {},
   "outputs": [],
>>>>>>> udacity/master
   "source": [
    "print accuracy_score(outcomes, predictions)"
   ]
  },
  {
   "cell_type": "markdown",
   "metadata": {},
   "source": [
    "61.62%"
   ]
  },
  {
   "cell_type": "markdown",
   "metadata": {},
   "source": [
    "***\n",
    "Let's take a look at whether the feature **Sex** has any indication of survival rates among passengers using the `survival_stats` function. This function is defined in the `visuals.py` Python script included with this project. The first two parameters passed to the function are the RMS Titanic data and passenger survival outcomes, respectively. The third parameter indicates which feature we want to plot survival statistics across.  \n",
    "Run the code cell below to plot the survival outcomes of passengers based on their sex."
   ]
  },
  {
   "cell_type": "code",
<<<<<<< HEAD
   "execution_count": 278,
   "metadata": {
    "collapsed": false
   },
   "outputs": [
    {
     "data": {
      "image/png": "iVBORw0KGgoAAAANSUhEUgAAArUAAAIiCAYAAADWwzC6AAAABHNCSVQICAgIfAhkiAAAAAlwSFlz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\nVDxDrSRJkopnqJUkSVLx/g91LkT3nCqWvAAAAABJRU5ErkJggg==\n",
      "text/plain": [
       "<matplotlib.figure.Figure at 0x118441250>"
      ]
     },
     "metadata": {},
     "output_type": "display_data"
    }
   ],
=======
   "execution_count": null,
   "metadata": {},
   "outputs": [],
>>>>>>> udacity/master
   "source": [
    "vs.survival_stats(data, outcomes,'Age', [\"Fare > 50\"])"
   ]
  },
  {
   "cell_type": "markdown",
   "metadata": {},
   "source": [
    "Examining the survival statistics, a large majority of males did not survive the ship sinking. However, a majority of females *did* survive the ship sinking. Let's build on our previous prediction: If a passenger was female, then we will predict that they survived. Otherwise, we will predict the passenger did not survive.  \n",
    "Fill in the missing code below so that the function will make this prediction.  \n",
    "**Hint:** You can access the values of each feature for a passenger like a dictionary. For example, `passenger['Sex']` is the sex of the passenger."
   ]
  },
  {
   "cell_type": "code",
<<<<<<< HEAD
   "execution_count": 386,
   "metadata": {
    "collapsed": false
   },
=======
   "execution_count": null,
   "metadata": {},
>>>>>>> udacity/master
   "outputs": [],
   "source": [
    "def predictions_1(data):\n",
    "    \"\"\" Model with one feature: \n",
    "            - Predict a passenger survived if they are female. \"\"\"\n",
    "    \n",
    "    predictions = []\n",
    "    for _, passenger in data.iterrows():\n",
    "        if passenger ['Fare'] > 80 and passenger ['Sex'] == 'male':\n",
    "            predictions.append(1)\n",
    "        else:\n",
    "            predictions.append(0)\n",
    "    \n",
    "    # Return our predictions\n",
    "    return pd.Series(predictions)\n",
    "\n",
    "# Make the predictions\n",
    "predictions = predictions_1(data)"
   ]
  },
  {
   "cell_type": "markdown",
   "metadata": {},
   "source": [
    "### Question 2\n",
    "*How accurate would a prediction be that all female passengers survived and the remaining passengers did not survive?*  \n",
    "**Hint:** Run the code cell below to see the accuracy of this prediction."
   ]
  },
  {
   "cell_type": "code",
<<<<<<< HEAD
   "execution_count": 387,
   "metadata": {
    "collapsed": false
   },
   "outputs": [
    {
     "name": "stdout",
     "output_type": "stream",
     "text": [
      "Predictions have an accuracy of 61.17%.\n"
     ]
    }
   ],
=======
   "execution_count": null,
   "metadata": {},
   "outputs": [],
>>>>>>> udacity/master
   "source": [
    "print accuracy_score(outcomes, predictions)"
   ]
  },
  {
   "cell_type": "markdown",
   "metadata": {},
   "source": [
    "**Answer**: 78.68%"
   ]
  },
  {
   "cell_type": "markdown",
   "metadata": {},
   "source": [
    "***\n",
    "Using just the **Sex** feature for each passenger, we are able to increase the accuracy of our predictions by a significant margin. Now, let's consider using an additional feature to see if we can further improve our predictions. For example, consider all of the male passengers aboard the RMS Titanic: Can we find a subset of those passengers that had a higher rate of survival? Let's start by looking at the **Age** of each male, by again using the `survival_stats` function. This time, we'll use a fourth parameter to filter out the data so that only passengers with the **Sex** 'male' will be included.  \n",
    "Run the code cell below to plot the survival outcomes of male passengers based on their age."
   ]
  },
  {
   "cell_type": "code",
<<<<<<< HEAD
   "execution_count": 348,
   "metadata": {
    "collapsed": false
   },
   "outputs": [
    {
     "data": {
      "image/png": "iVBORw0KGgoAAAANSUhEUgAAArUAAAIiCAYAAADWwzC6AAAABHNCSVQICAgIfAhkiAAAAAlwSFlz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\n/w+TqESK/JCYWwAAAABJRU5ErkJggg==\n",
      "text/plain": [
       "<matplotlib.figure.Figure at 0x119020150>"
      ]
     },
     "metadata": {},
     "output_type": "display_data"
    }
   ],
=======
   "execution_count": null,
   "metadata": {},
   "outputs": [],
>>>>>>> udacity/master
   "source": [
    "vs.survival_stats(data, outcomes, 'Age', [\"Fare > 40\"])"
   ]
  },
  {
   "cell_type": "markdown",
   "metadata": {
    "collapsed": true
   },
   "source": [
    "Examining the survival statistics, the majority of males younger than 10 survived the ship sinking, whereas most males age 10 or older *did not survive* the ship sinking. Let's continue to build on our previous prediction: If a passenger was female, then we will predict they survive. If a passenger was male and younger than 10, then we will also predict they survive. Otherwise, we will predict they do not survive.  \n",
    "Fill in the missing code below so that the function will make this prediction.  \n",
    "**Hint:** You can start your implementation of this function using the prediction code you wrote earlier from `predictions_1`."
   ]
  },
  {
   "cell_type": "code",
<<<<<<< HEAD
   "execution_count": 120,
   "metadata": {
    "collapsed": false
   },
=======
   "execution_count": null,
   "metadata": {},
>>>>>>> udacity/master
   "outputs": [],
   "source": [
    "def predictions_2(data):\n",
    "    \"\"\" Model with two features: \n",
    "            - Predict a passenger survived if they are female.\n",
    "            - Predict a passenger survived if they are male and younger than 10. \"\"\"\n",
    "    \n",
    "    predictions = []\n",
    "    for _, passenger in data.iterrows():\n",
    "        if passenger ['Sex'] == 'female':\n",
    "            predictions.append(1)\n",
    "        elif passenger ['Sex'] =='male' and passenger ['Age'] < 10:\n",
    "            predictions.append(1)\n",
    "        else:\n",
    "            predictions.append(0)\n",
    "            \n",
    "        \n",
    "        # Remove the 'pass' statement below \n",
    "        # and write your prediction conditions here\n",
    "        pass\n",
    "    \n",
    "    # Return our predictions\n",
    "    return pd.Series(predictions)\n",
    "\n",
    "# Make the predictions\n",
    "predictions = predictions_2(data)"
   ]
  },
  {
   "cell_type": "markdown",
   "metadata": {},
   "source": [
    "### Question 3\n",
    "*How accurate would a prediction be that all female passengers and all male passengers younger than 10 survived?*  \n",
    "**Hint:** Run the code cell below to see the accuracy of this prediction."
   ]
  },
  {
   "cell_type": "code",
<<<<<<< HEAD
   "execution_count": 121,
   "metadata": {
    "collapsed": false
   },
   "outputs": [
    {
     "name": "stdout",
     "output_type": "stream",
     "text": [
      "Predictions have an accuracy of 79.35%.\n"
     ]
    }
   ],
=======
   "execution_count": null,
   "metadata": {},
   "outputs": [],
>>>>>>> udacity/master
   "source": [
    "print accuracy_score(outcomes, predictions)"
   ]
  },
  {
   "cell_type": "markdown",
   "metadata": {},
   "source": [
    "**Answer**: 79.35"
   ]
  },
  {
   "cell_type": "markdown",
   "metadata": {
    "collapsed": true
   },
   "source": [
    "***\n",
    "Adding the feature **Age** as a condition in conjunction with **Sex** improves the accuracy by a small margin more than with simply using the feature **Sex** alone. Now it's your turn: Find a series of features and conditions to split the data on to obtain an outcome prediction accuracy of at least 80%. This may require multiple features and multiple levels of conditional statements to succeed. You can use the same feature multiple times with different conditions.   \n",
    "**Pclass**, **Sex**, **Age**, **SibSp**, and **Parch** are some suggested features to try.\n",
    "\n",
    "Use the `survival_stats` function below to to examine various survival statistics.  \n",
    "**Hint:** To use mulitple filter conditions, put each condition in the list passed as the last argument. Example: `[\"Sex == 'male'\", \"Age < 18\"]`"
   ]
  },
  {
   "cell_type": "code",
<<<<<<< HEAD
   "execution_count": 240,
   "metadata": {
    "collapsed": false
   },
   "outputs": [
    {
     "data": {
      "image/png": "iVBORw0KGgoAAAANSUhEUgAAArUAAAIiCAYAAADWwzC6AAAABHNCSVQICAgIfAhkiAAAAAlwSFlz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\nxTPUSpIkqXiGWkmSJBXPUCtJkqTi/R/wItbGMf0eBAAAAABJRU5ErkJggg==\n",
      "text/plain": [
       "<matplotlib.figure.Figure at 0x11960ecd0>"
      ]
     },
     "metadata": {},
     "output_type": "display_data"
    }
   ],
=======
   "execution_count": null,
   "metadata": {},
   "outputs": [],
>>>>>>> udacity/master
   "source": [
    "vs.survival_stats(data, outcomes, 'Age', [\"Sex == 'female\"])"
   ]
  },
  {
   "cell_type": "markdown",
   "metadata": {},
   "source": [
    "After exploring the survival statistics visualization, fill in the missing code below so that the function will make your prediction.  \n",
    "Make sure to keep track of the various features and conditions you tried before arriving at your final prediction model.  \n",
    "**Hint:** You can start your implementation of this function using the prediction code you wrote earlier from `predictions_2`."
   ]
  },
  {
   "cell_type": "code",
<<<<<<< HEAD
   "execution_count": 347,
   "metadata": {
    "collapsed": false
   },
=======
   "execution_count": null,
   "metadata": {},
>>>>>>> udacity/master
   "outputs": [],
   "source": [
    "def predictions_3(data):\n",
    "    \"\"\" Model with multiple features. Makes a prediction with an accuracy of at least 80%. \"\"\"\n",
    "    \n",
    "    predictions = []\n",
    "    for _, passenger in data.iterrows():\n",
    "        \n",
    "        if passenger ['Sex'] == 'female':\n",
    "            predictions.append(1)\n",
    "        elif passenger ['Sex'] =='male' and passenger ['Age'] < 10:\n",
    "            predictions.append(1)\n",
    "        elif passenger ['Sex'] == 'male' and passenger ['Pclass'] < 2  and passenger ['Age'] < 40 and passenger ['SibSp'] < 3:\n",
    "            predictions.append(1)\n",
    "        elif passenger ['Sex'] =='male' and passenger ['Fare'] > 50 and passenger ['Pclass'] == 1 and passenger ['Age'] < 10:\n",
    "            predictions.append(1)\n",
    "        \n",
    "        \n",
    "        else:\n",
    "            predictions.append(0)\n",
    "    \n",
    "    # Return our predictions\n",
    "    return pd.Series(predictions)\n",
    "\n",
    "# Make the predictions\n",
    "predictions = predictions_3(data)"
   ]
  },
  {
   "cell_type": "markdown",
   "metadata": {},
   "source": [
    "### Question 4\n",
    "*Describe the steps you took to implement the final prediction model so that it got an accuracy of at least 80%. What features did you look at? Were certain features more informative than others? Which conditions did you use to split the survival outcomes in the data? How accurate are your predictions?*  \n",
    "**Hint:** Run the code cell below to see the accuracy of your predictions."
   ]
  },
  {
   "cell_type": "code",
<<<<<<< HEAD
   "execution_count": 345,
   "metadata": {
    "collapsed": false
   },
   "outputs": [
    {
     "name": "stdout",
     "output_type": "stream",
     "text": [
      "Predictions have an accuracy of 79.46%.\n"
     ]
    }
   ],
=======
   "execution_count": null,
   "metadata": {},
   "outputs": [],
>>>>>>> udacity/master
   "source": [
    "print accuracy_score(outcomes, predictions)"
   ]
  },
  {
   "cell_type": "markdown",
   "metadata": {},
   "source": [
    "**Answer**: *Replace this text with your answer to the question above.*"
   ]
  },
  {
   "cell_type": "markdown",
   "metadata": {},
   "source": [
    "# Conclusion\n",
    "\n",
    "After several iterations of exploring and conditioning on the data, you have built a useful algorithm for predicting the survival of each passenger aboard the RMS Titanic. The technique applied in this project is a manual implementation of a simple machine learning model, the *decision tree*. A decision tree splits a set of data into smaller and smaller groups (called *nodes*), by one feature at a time. Each time a subset of the data is split, our predictions become more accurate if each of the resulting subgroups are more homogeneous (contain similar labels) than before. The advantage of having a computer do things for us is that it will be more exhaustive and more precise than our manual exploration above. [This link](http://www.r2d3.us/visual-intro-to-machine-learning-part-1/) provides another introduction into machine learning using a decision tree.\n",
    "\n",
    "A decision tree is just one of many models that come from *supervised learning*. In supervised learning, we attempt to use features of the data to predict or model things with objective outcome labels. That is to say, each of our data points has a known outcome value, such as a categorical, discrete label like `'Survived'`, or a numerical, continuous value like predicting the price of a house.\n",
    "\n",
    "### Question 5\n",
    "*Think of a real-world scenario where supervised learning could be applied. What would be the outcome variable that you are trying to predict? Name two features about the data used in this scenario that might be helpful for making the predictions.*  "
   ]
  },
  {
   "cell_type": "markdown",
   "metadata": {
    "collapsed": true
   },
   "source": [
    "**Answer**: *Replace this text with your answer to the question above.*"
   ]
  },
  {
   "cell_type": "markdown",
   "metadata": {},
   "source": [
    "> **Note**: Once you have completed all of the code implementations and successfully answered each question above, you may finalize your work by exporting the iPython Notebook as an HTML document. You can do this by using the menu above and navigating to  \n",
    "**File -> Download as -> HTML (.html)**. Include the finished document along with this notebook as your submission."
   ]
  }
 ],
 "metadata": {
  "anaconda-cloud": {},
  "kernelspec": {
<<<<<<< HEAD
   "display_name": "Python [default]",
=======
   "display_name": "Python 3",
>>>>>>> udacity/master
   "language": "python",
   "name": "python3"
  },
  "language_info": {
   "codemirror_mode": {
    "name": "ipython",
    "version": 3
   },
   "file_extension": ".py",
   "mimetype": "text/x-python",
   "name": "python",
   "nbconvert_exporter": "python",
<<<<<<< HEAD
   "pygments_lexer": "ipython2",
   "version": "2.7.12"
=======
   "pygments_lexer": "ipython3",
   "version": "3.6.0"
>>>>>>> udacity/master
  }
 },
 "nbformat": 4,
 "nbformat_minor": 1
}
